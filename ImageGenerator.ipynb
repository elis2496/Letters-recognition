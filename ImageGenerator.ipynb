{
 "cells": [
  {
   "cell_type": "code",
   "execution_count": 6,
   "metadata": {
    "collapsed": false
   },
   "outputs": [],
   "source": [
    "import random\n",
    "import numpy as np\n",
    "from PIL import Image, ImageFilter, ImageDraw\n",
    "import matplotlib.pyplot as plt\n",
    "from skimage.util import random_noise\n",
    "import glob\n",
    "import IPython.display\n",
    "\n",
    "def making_data(filename, size_of_letter, angle, max_percentage_of_noise, file_to_save):\n",
    "    \n",
    "    n=random.randint(size_of_letter[0],size_of_letter[1])\n",
    "    im = Image.open(filename)\n",
    "    im = im.crop(im.getbbox()).resize((n,n)).convert(\"RGBA\")\n",
    "    im2 = Image.new('RGBA',(90,90),\"#FFFFFF\")\n",
    "    k=random.randint(-angle, angle)\n",
    "    mask = im.rotate(k)\n",
    "    im2.paste(im.rotate(k),(0,0),im.rotate(k))\n",
    "    draw = ImageDraw.Draw(im)\n",
    "    a=random.randint(0,75)\n",
    "    b=random.randint(0,75)\n",
    "    m=random.randint(0,25)\n",
    "    draw.rectangle((a,b,a+m,b+m), fill=\"#FFFFFF\")\n",
    "    if(k%3==0):    im2=im2.filter(ImageFilter.BLUR)\n",
    "    l=random.randint(0,max_percentage_of_noise)\n",
    "    plt.imsave(file_to_save +'.png', random_noise(np.array(im2), seed=42, mode='s&p',amount=l/100))\n",
    "    Image.open(file_to_save +'.png').convert('1').save(file_to_save + '.png')\n",
    "    \n",
    "\n",
    "for j in range(1,5,1):\n",
    "    for k in range(1,len(glob.glob(\"Full/\"+str(j)+\"/*\"))+1,1):\n",
    "        for i in range(400//k):\n",
    "            making_data(\"Full/\"+str(j)+\"/\"+str(j)+\"-\"+str(k)+\".png\",[70,90],30,60, \"Full data2/\"+str(j)+\"/\"+str(i*k))\n",
    "#making_data(\"1-3.png\",[70,90],30,60, \"2\")\n",
    "      \n",
    " "
   ]
  }
 ],
 "metadata": {
  "kernelspec": {
   "display_name": "Python 3",
   "language": "python",
   "name": "python3"
  },
  "language_info": {
   "codemirror_mode": {
    "name": "ipython",
    "version": 3
   },
   "file_extension": ".py",
   "mimetype": "text/x-python",
   "name": "python",
   "nbconvert_exporter": "python",
   "pygments_lexer": "ipython3",
   "version": "3.6.0"
  }
 },
 "nbformat": 4,
 "nbformat_minor": 2
}
