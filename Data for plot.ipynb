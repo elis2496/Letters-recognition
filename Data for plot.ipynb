{
 "cells": [
  {
   "cell_type": "code",
   "execution_count": null,
   "metadata": {
    "collapsed": true
   },
   "outputs": [],
   "source": [
    "from skimage import measure\n",
    "from skimage import io\n",
    "from PIL import Image\n",
    "import numpy as np\n",
    "\n",
    "\n",
    "im1 = io.imread('A.png')\n",
    "im2 = io.imread(' A5.png')\n",
    "im3 = io.imread('/home/anastasia/данные /data/train/A/ A24.png')\n",
    "im4 = io.imread('/home/anastasia/данные /data/train/A/ A151.png')\n",
    "im1.resize((90,90))\n",
    "print(measure.compare_mse(im1, im2))\n",
    "print(measure.compare_mse(im1, im3))\n",
    "print(measure.compare_mse(im1, im4))"
   ]
  }
 ],
 "metadata": {
  "kernelspec": {
   "display_name": "Python 3",
   "language": "python",
   "name": "python3"
  },
  "language_info": {
   "codemirror_mode": {
    "name": "ipython",
    "version": 3
   },
   "file_extension": ".py",
   "mimetype": "text/x-python",
   "name": "python",
   "nbconvert_exporter": "python",
   "pygments_lexer": "ipython3",
   "version": "3.6.0"
  }
 },
 "nbformat": 4,
 "nbformat_minor": 2
}
