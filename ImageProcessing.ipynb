{
 "cells": [
  {
   "cell_type": "code",
   "execution_count": 15,
   "metadata": {
    "collapsed": false
   },
   "outputs": [
    {
     "data": {
      "image/png": "[encoded data removed]",
      "text/plain": [
       "<matplotlib.figure.Figure at 0x7fd08a4cd908>"
      ]
     },
     "metadata": {},
     "output_type": "display_data"
    }
   ],
   "source": [
    "import numpy as np\n",
    "import cv2\n",
    "from matplotlib import pyplot as plt\n",
    "\n",
    "def make_image_for_predicted(img_file, thresh, img_file_to_save):\n",
    "    img = cv2.imread(img_file,0)\n",
    "    ret, img2 = cv2.threshold(img,thresh,255,cv2.THRESH_BINARY)\n",
    "    plt.subplot(2,3,1),plt.imshow(img2,'gray')\n",
    "    plt.show(img_file_to_save, img2)\n",
    "    \n",
    "    \n",
    "def histograms(img_file):\n",
    "    img = cv2.imread(img_file,0)\n",
    "    plt.hist(img.ravel(),256,[0,256]); plt.show()\n",
    "    \n",
    "make_image_for_predicted(\"test.jpg\",135,\"t.jpg\")\n",
    "\n",
    "\n"
   ]
  },
  {
   "cell_type": "code",
   "execution_count": null,
   "metadata": {
    "collapsed": true
   },
   "outputs": [],
   "source": []
  }
 ],
 "metadata": {
  "kernelspec": {
   "display_name": "Python 3",
   "language": "python",
   "name": "python3"
  },
  "language_info": {
   "codemirror_mode": {
    "name": "ipython",
    "version": 3
   },
   "file_extension": ".py",
   "mimetype": "text/x-python",
   "name": "python",
   "nbconvert_exporter": "python",
   "pygments_lexer": "ipython3",
   "version": "3.6.0"
  }
 },
 "nbformat": 4,
 "nbformat_minor": 2
}
